{
 "cells": [
  {
   "cell_type": "code",
   "execution_count": 1,
   "metadata": {},
   "outputs": [],
   "source": [
    "import selenium\n",
    "from selenium import webdriver\n",
    "from selenium.webdriver import ActionChains\n",
    "\n",
    "from selenium.webdriver.common.keys import Keys\n",
    "from selenium.webdriver.common.by import By\n",
    "\n",
    "from selenium.webdriver.support import expected_conditions as EC\n",
    "from selenium.webdriver.support.ui import Select\n",
    "from selenium.webdriver.support.ui import WebDriverWait"
   ]
  },
  {
   "attachments": {},
   "cell_type": "markdown",
   "metadata": {},
   "source": [
    "***크롬드라이버 실행(자기 크롬 버전에 맞게 설치후 test.ipynb와 같은 경로에 두기)***"
   ]
  },
  {
   "cell_type": "code",
   "execution_count": null,
   "metadata": {},
   "outputs": [],
   "source": [
    "driver = webdriver.Chrome('chromedriver')\n",
    "url_list = [\"36528615\", \"31317229\", \"1269259731\", \"1779562085\", \"33040151\", \"1675801137\", \"1384361907\", \"1372982703\", \"1681990192\", \"1971062401\"]\n"
   ]
  },
  {
   "attachments": {},
   "cell_type": "markdown",
   "metadata": {},
   "source": [
    "***클릭할 버튼이 없을때까지 스크롤 내림 (일단 임시로 100지정)***"
   ]
  },
  {
   "cell_type": "code",
   "execution_count": 2,
   "metadata": {},
   "outputs": [],
   "source": [
    "from selenium.webdriver.common.by import By\n"
   ]
  },
  {
   "cell_type": "code",
   "execution_count": null,
   "metadata": {},
   "outputs": [],
   "source": [
    "import time\n",
    "import pandas as pd\n",
    "userlink = pd.DataFrame()\n",
    "for _url in url_list[0]:\n",
    "    URL = f\"https://m.place.naver.com/restaurant/{_url}/review/visitor\"  \n",
    "    driver.get(URL)\n",
    "    time.sleep(2.5)\n",
    "    for _ in range(100):\n",
    "        driver.find_element(By.CSS_SELECTOR, \"body\").send_keys(Keys.END)\n",
    "        time.sleep(0.5)\n",
    "        try: driver.find_element(By.CLASS_NAME, 'fvwqf').click()\n",
    "        except: pass\n",
    "        time.sleep(0.1)\n",
    "    \n",
    "    link_list = driver.find_elements(By.CLASS_NAME, \"Hazns\")\n",
    "    link_list = [link.get_attribute(\"href\") for link in link_list]\n",
    "    user_list = driver.find_elements(By.CLASS_NAME, \"sBWyy\")\n",
    "    user_list = [user.text for user in user_list]\n",
    "    review_time_list = driver.find_elements(By.CLASS_NAME, \"sb8UA\")\n",
    "    review_time_list = [reviews.text for reviews in review_time_list]\n",
    "    length = min(len(user_list), len(link_list), len(review_time_list))\n",
    "    userlink2 = pd.DataFrame({'user' : user_list[:length], 'link' : link_list[:length], 'review_time' : review_time_list[:length]}, dtype = str)\n",
    "    userlink = pd.concat([userlink, userlink2], axis = 0, sort=False)"
   ]
  },
  {
   "cell_type": "code",
   "execution_count": 5,
   "metadata": {},
   "outputs": [
    {
     "name": "stdout",
     "output_type": "stream",
     "text": [
      "searchIframe\n"
     ]
    }
   ],
   "source": [
    "# iframe 아이디를 반환해줌 \n",
    "iframes = driver.find_elements(By.CSS_SELECTOR, 'iframe')\n",
    "for iframe in iframes:\n",
    "    print(iframe.get_attribute('id'))\n"
   ]
  },
  {
   "cell_type": "code",
   "execution_count": null,
   "metadata": {},
   "outputs": [],
   "source": [
    "# driver.switch_to.parent_frame() # 아래 코드를 이용해서 iframe갔을때 빠져나오기 위한 코드 (현재는 의미없음)"
   ]
  },
  {
   "attachments": {},
   "cell_type": "markdown",
   "metadata": {},
   "source": [
    "**식당 리스트 뽑기위한 코드**"
   ]
  },
  {
   "cell_type": "code",
   "execution_count": 23,
   "metadata": {},
   "outputs": [],
   "source": [
    "import time\n",
    "import pandas as pd\n",
    "driver = webdriver.Chrome('chromedriver')\n",
    "URL = \"https://map.naver.com/v5/search/%EA%B0%95%EB%82%A8%EA%B5%AC%20%EC%9D%BC%EC%9B%90%EB%8F%99%20%EC%9D%8C%EC%8B%9D%EC%A0%90?c=14145501.7747606,4507886.3437289,14,0,0,0,dh\"  \n",
    "driver.get(URL)"
   ]
  },
  {
   "cell_type": "code",
   "execution_count": 24,
   "metadata": {},
   "outputs": [],
   "source": [
    "driver.switch_to.frame('searchIframe') #iframe 으로 이동하기 위한 코드\n",
    "restaurants_list = pd.DataFrame()"
   ]
  },
  {
   "cell_type": "code",
   "execution_count": 25,
   "metadata": {},
   "outputs": [
    {
     "data": {
      "text/plain": [
       "['4.54리뷰 881TV2TV생생정보',\n",
       " '4.36리뷰 999+',\n",
       " '곧 영업 시작리뷰 316서울 강남구 일원동',\n",
       " '곧 영업 시작리뷰 228서울 강남구 일원동',\n",
       " '4.52리뷰 763',\n",
       " '영업 전리뷰 744밥이 맛있는 일원동 초밥집',\n",
       " '4.77리뷰 319',\n",
       " '4.42리뷰 298',\n",
       " '4.4리뷰 288',\n",
       " '영업 중리뷰 70서울 강남구 일원동']"
      ]
     },
     "execution_count": 25,
     "metadata": {},
     "output_type": "execute_result"
    }
   ],
   "source": [
    "tag_list = driver.find_elements(By.CLASS_NAME, \"MVx6e\") # 식당 종류 리스트\n",
    "tag_list = [user.text.split(\"\\n\")[-1] for user in tag_list]\n",
    "tag_list"
   ]
  },
  {
   "cell_type": "code",
   "execution_count": 26,
   "metadata": {},
   "outputs": [
    {
     "name": "stderr",
     "output_type": "stream",
     "text": [
      "100%|██████████| 6/6 [05:22<00:00, 53.75s/it]\n"
     ]
    }
   ],
   "source": [
    "from tqdm import tqdm\n",
    "epoch = 6 # 6이 최대인듯\n",
    "for _ in tqdm(range(epoch)):\n",
    "    click_list = driver.find_elements(By.CLASS_NAME, \"tzwk0\")\n",
    "    click_list[0].click() #아무거나 클릭을 해야 end키가 먹혀서 임의로 아무 클래스 클릭한거임\n",
    "    for _ in range(10):\n",
    "        driver.find_element(By.CSS_SELECTOR, \"body\").send_keys(Keys.END) # end키를 눌러서 아래까지 로딩\n",
    "    time.sleep(2)\n",
    "    click_list = driver.find_elements(By.CLASS_NAME, \"tzwk0\") # 식당 리스트\n",
    "    name_list = driver.find_elements(By.CLASS_NAME, \"TYaxT\") # 식당 이름 리스트\n",
    "    name_list = [user.text for user in name_list]\n",
    "    tag_list = driver.find_elements(By.CLASS_NAME, \"KCMnt\") # 식당 종류 리스트\n",
    "    tag_list = [user.text for user in tag_list]\n",
    "    review_list = driver.find_elements(By.CLASS_NAME, \"MVx6e\") # 리뷰 개수 리스트\n",
    "    review_list = [user.text.split(\"\\n\")[-1] for user in review_list]\n",
    "    url_list = []\n",
    "    for restaurant_link in click_list:\n",
    "        restaurant_link.click()\n",
    "        url_list.append(driver.current_url)\n",
    "        time.sleep(0.5)\n",
    "    restaurants_list2 = pd.DataFrame({'restaurant' : name_list, 'tag' : tag_list, 'url' : url_list, 'review' : review_list}, dtype = str)\n",
    "    restaurants_list = pd.concat([restaurants_list, restaurants_list2], axis = 0, sort=False)\n",
    "    driver.find_elements(By.CLASS_NAME, \"yUtES\")[1].click() #다음페이지 클릭\n",
    "    time.sleep(2)"
   ]
  },
  {
   "cell_type": "code",
   "execution_count": 27,
   "metadata": {},
   "outputs": [],
   "source": [
    "restaurants_list.to_csv('river_behind5.csv', index=False)"
   ]
  },
  {
   "cell_type": "code",
   "execution_count": 28,
   "metadata": {},
   "outputs": [
    {
     "data": {
      "text/plain": [
       "[1675303081, 1867823297, 38969614, 895457986, 11700226]"
      ]
     },
     "execution_count": 28,
     "metadata": {},
     "output_type": "execute_result"
    }
   ],
   "source": [
    "data = pd.read_csv('./save_csv/river_behind_concat.csv')\n",
    "url_list = list(data['url'].values)\n",
    "url_list[:5]"
   ]
  },
  {
   "cell_type": "code",
   "execution_count": 30,
   "metadata": {},
   "outputs": [
    {
     "data": {
      "text/plain": [
       "3071"
      ]
     },
     "execution_count": 30,
     "metadata": {},
     "output_type": "execute_result"
    }
   ],
   "source": [
    "len(url_list)"
   ]
  },
  {
   "cell_type": "code",
   "execution_count": 38,
   "metadata": {},
   "outputs": [],
   "source": [
    "userlink = pd.DataFrame()"
   ]
  },
  {
   "cell_type": "code",
   "execution_count": 70,
   "metadata": {},
   "outputs": [
    {
     "name": "stderr",
     "output_type": "stream",
     "text": [
      "100%|██████████| 1/1 [00:39<00:00, 39.51s/it]\n"
     ]
    }
   ],
   "source": [
    "from tqdm import tqdm\n",
    "#url_list = [\"36528615\", \"31317229\", \"1269259731\", \"1779562085\", \"33040151\", \"1675801137\", \"1384361907\", \"1372982703\", \"1681990192\", \"1971062401\"]\n",
    "current_status = 2000\n",
    "\n",
    "for _url in tqdm(url_list[2000:2001]):\n",
    "    if current_status % 50 == 0: #크롬 드라이버 가끔 이상해지는거때문에 50번마다 재실행\n",
    "        driver = webdriver.Chrome('chromedriver')\n",
    "        userlink.to_csv('river_behind_concat.csv', index=False)\n",
    "    URL = f\"https://m.place.naver.com/restaurant/{_url}/review/visitor\"  \n",
    "    driver.get(URL)\n",
    "    time.sleep(2.5)\n",
    "    prev_height = driver.execute_script(\"return document. body.scrollHeight\")\n",
    "    while True:\n",
    "        driver.find_element(By.CSS_SELECTOR, \"body\").send_keys(Keys.END)\n",
    "        time.sleep(0.5)\n",
    "        try: driver.find_element(By.CLASS_NAME, 'fvwqf').click()\n",
    "        except: pass\n",
    "        current_height = driver.execute_script(\"return document. body.scrollHeight\")\n",
    "        if current_height == prev_height: break\n",
    "        prev_height = current_height\n",
    "        time.sleep(0.1)\n",
    "    \n",
    "        \n",
    "    driver.find_elements(By.CLASS_NAME, 'I8cuq')[0].click() #선택 리뷰 창 + 버튼 누르기\n",
    "\n",
    "    while True:\n",
    "        driver.find_element(By.CSS_SELECTOR, \"body\").send_keys(Keys.END)\n",
    "        time.sleep(0.5)\n",
    "        try: driver.find_element(By.CLASS_NAME, 'fvwqf').click()\n",
    "        except: pass\n",
    "        current_height = driver.execute_script(\"return document. body.scrollHeight\")\n",
    "        if current_height == prev_height: break\n",
    "        prev_height = current_height\n",
    "        time.sleep(0.1)\n",
    "        \n",
    "    time.sleep(0.2)\n",
    "    link_list = driver.find_elements(By.CLASS_NAME, \"Hazns\")\n",
    "    link_list = [link.get_attribute(\"href\") for link in link_list]\n",
    "    user_list = driver.find_elements(By.CLASS_NAME, \"YeINN\")\n",
    "    user_list = [user.text.split(\"\\n\") for user in user_list]   \n",
    "    # while len(user_list) == len(link_list), len(review_time_list), len(review_text_list))\n",
    "    userlink2 = pd.DataFrame({'link' : link_list, 'user' : user_list}, dtype = str)\n",
    "    userlink2['rest'] = _url\n",
    "    userlink = pd.concat([userlink, userlink2], axis = 0, sort=False)\n",
    "    current_status += 1"
   ]
  },
  {
   "cell_type": "code",
   "execution_count": 69,
   "metadata": {},
   "outputs": [
    {
     "data": {
      "text/html": [
       "<div>\n",
       "<style scoped>\n",
       "    .dataframe tbody tr th:only-of-type {\n",
       "        vertical-align: middle;\n",
       "    }\n",
       "\n",
       "    .dataframe tbody tr th {\n",
       "        vertical-align: top;\n",
       "    }\n",
       "\n",
       "    .dataframe thead th {\n",
       "        text-align: right;\n",
       "    }\n",
       "</style>\n",
       "<table border=\"1\" class=\"dataframe\">\n",
       "  <thead>\n",
       "    <tr style=\"text-align: right;\">\n",
       "      <th></th>\n",
       "      <th>link</th>\n",
       "      <th>user</th>\n",
       "      <th>rest</th>\n",
       "    </tr>\n",
       "  </thead>\n",
       "  <tbody>\n",
       "    <tr>\n",
       "      <th>0</th>\n",
       "      <td>https://m.place.naver.com/my/5ca8af7af9bd7ae34...</td>\n",
       "      <td>['돌돔이아빠', '리뷰 158사진 107', '팔로우', '방문자리뷰', '언제나...</td>\n",
       "      <td>1268061360</td>\n",
       "    </tr>\n",
       "    <tr>\n",
       "      <th>1</th>\n",
       "      <td>https://m.place.naver.com/my/5e6838228f87a842b...</td>\n",
       "      <td>['콩이에나', '리뷰 78사진 46', '팔로우', '방문자리뷰', '근처 회사 ...</td>\n",
       "      <td>1268061360</td>\n",
       "    </tr>\n",
       "    <tr>\n",
       "      <th>2</th>\n",
       "      <td>https://m.place.naver.com/my/5cc6f1738f87a842b...</td>\n",
       "      <td>['코코상점 서초점', '리뷰 330사진 55팔로워 3', '팔로우', '방문자리뷰...</td>\n",
       "      <td>1268061360</td>\n",
       "    </tr>\n",
       "    <tr>\n",
       "      <th>3</th>\n",
       "      <td>https://m.place.naver.com/my/5ca8af7af9bd7ae34...</td>\n",
       "      <td>['돌돔이아빠', '리뷰 158사진 107', '팔로우', '뜨아에 반샷 추가 추천...</td>\n",
       "      <td>1268061360</td>\n",
       "    </tr>\n",
       "    <tr>\n",
       "      <th>4</th>\n",
       "      <td>https://m.place.naver.com/my/5ca8af7af9bd7ae34...</td>\n",
       "      <td>['돌돔이아빠', '리뷰 158사진 107', '팔로우', '방문자리뷰', '오늘도...</td>\n",
       "      <td>1268061360</td>\n",
       "    </tr>\n",
       "    <tr>\n",
       "      <th>...</th>\n",
       "      <td>...</td>\n",
       "      <td>...</td>\n",
       "      <td>...</td>\n",
       "    </tr>\n",
       "    <tr>\n",
       "      <th>201</th>\n",
       "      <td>https://m.place.naver.com/my/5b6876c2a6e162128...</td>\n",
       "      <td>['딤15', '리뷰 1473사진 22', '팔로우', '별점', '5', '최근 ...</td>\n",
       "      <td>1268061360</td>\n",
       "    </tr>\n",
       "    <tr>\n",
       "      <th>202</th>\n",
       "      <td>https://m.place.naver.com/my/5b9cad9f3355424e0...</td>\n",
       "      <td>['sere25', '리뷰 173사진 1', '팔로우', '별점', '4', '최근...</td>\n",
       "      <td>1268061360</td>\n",
       "    </tr>\n",
       "    <tr>\n",
       "      <th>203</th>\n",
       "      <td>https://m.place.naver.com/my/5d25c4a7f66eb146e...</td>\n",
       "      <td>['호디니', '리뷰 1405사진 3', '팔로우', '별점', '5', '최근 방...</td>\n",
       "      <td>1268061360</td>\n",
       "    </tr>\n",
       "    <tr>\n",
       "      <th>204</th>\n",
       "      <td>https://m.place.naver.com/my/5d66829e8f87a842b...</td>\n",
       "      <td>['나나무라', '리뷰 1464사진 436팔로워 37', '팔로우', '별점', '...</td>\n",
       "      <td>1268061360</td>\n",
       "    </tr>\n",
       "    <tr>\n",
       "      <th>205</th>\n",
       "      <td>https://m.place.naver.com/my/5e365b738f87a842b...</td>\n",
       "      <td>['또또어멈', '리뷰 1195사진 80팔로워 10', '팔로우', '별점', '3...</td>\n",
       "      <td>1268061360</td>\n",
       "    </tr>\n",
       "  </tbody>\n",
       "</table>\n",
       "<p>206 rows × 3 columns</p>\n",
       "</div>"
      ],
      "text/plain": [
       "                                                  link  \\\n",
       "0    https://m.place.naver.com/my/5ca8af7af9bd7ae34...   \n",
       "1    https://m.place.naver.com/my/5e6838228f87a842b...   \n",
       "2    https://m.place.naver.com/my/5cc6f1738f87a842b...   \n",
       "3    https://m.place.naver.com/my/5ca8af7af9bd7ae34...   \n",
       "4    https://m.place.naver.com/my/5ca8af7af9bd7ae34...   \n",
       "..                                                 ...   \n",
       "201  https://m.place.naver.com/my/5b6876c2a6e162128...   \n",
       "202  https://m.place.naver.com/my/5b9cad9f3355424e0...   \n",
       "203  https://m.place.naver.com/my/5d25c4a7f66eb146e...   \n",
       "204  https://m.place.naver.com/my/5d66829e8f87a842b...   \n",
       "205  https://m.place.naver.com/my/5e365b738f87a842b...   \n",
       "\n",
       "                                                  user        rest  \n",
       "0    ['돌돔이아빠', '리뷰 158사진 107', '팔로우', '방문자리뷰', '언제나...  1268061360  \n",
       "1    ['콩이에나', '리뷰 78사진 46', '팔로우', '방문자리뷰', '근처 회사 ...  1268061360  \n",
       "2    ['코코상점 서초점', '리뷰 330사진 55팔로워 3', '팔로우', '방문자리뷰...  1268061360  \n",
       "3    ['돌돔이아빠', '리뷰 158사진 107', '팔로우', '뜨아에 반샷 추가 추천...  1268061360  \n",
       "4    ['돌돔이아빠', '리뷰 158사진 107', '팔로우', '방문자리뷰', '오늘도...  1268061360  \n",
       "..                                                 ...         ...  \n",
       "201  ['딤15', '리뷰 1473사진 22', '팔로우', '별점', '5', '최근 ...  1268061360  \n",
       "202  ['sere25', '리뷰 173사진 1', '팔로우', '별점', '4', '최근...  1268061360  \n",
       "203  ['호디니', '리뷰 1405사진 3', '팔로우', '별점', '5', '최근 방...  1268061360  \n",
       "204  ['나나무라', '리뷰 1464사진 436팔로워 37', '팔로우', '별점', '...  1268061360  \n",
       "205  ['또또어멈', '리뷰 1195사진 80팔로워 10', '팔로우', '별점', '3...  1268061360  \n",
       "\n",
       "[206 rows x 3 columns]"
      ]
     },
     "execution_count": 69,
     "metadata": {},
     "output_type": "execute_result"
    }
   ],
   "source": [
    "userlink"
   ]
  },
  {
   "cell_type": "code",
   "execution_count": 63,
   "metadata": {},
   "outputs": [],
   "source": [
    "driver = webdriver.Chrome('chromedriver')\n",
    "URL = f\"https://m.place.naver.com/restaurant/1641213468/review/visitor\"  \n",
    "driver.get(URL)"
   ]
  },
  {
   "cell_type": "code",
   "execution_count": 59,
   "metadata": {},
   "outputs": [
    {
     "data": {
      "text/plain": [
       "['Kimyejin',\n",
       " '리뷰 204사진 90팔로워 1',\n",
       " '팔로우',\n",
       " '별점',\n",
       " '5',\n",
       " '최근 방문일',\n",
       " '21.6.7.월',\n",
       " '2021년 6월 7일 월요일',\n",
       " '1번째 방문영수증']"
      ]
     },
     "execution_count": 59,
     "metadata": {},
     "output_type": "execute_result"
    }
   ],
   "source": [
    "user_list = driver.find_elements(By.CLASS_NAME, \"YeINN\")\n",
    "user_list = [user.text.split(\"\\n\") for user in user_list]\n",
    "#유저 아이디, 리뷰 000 사진 00 팔로워 00, 필요없는값, 필요없는값, 리뷰내용, 선택리뷰, 필요없는값, 필요없는값, 방문날짜, 방문날짜, 몇번째 방문했는지\n",
    "user_list[-1]"
   ]
  },
  {
   "cell_type": "code",
   "execution_count": 64,
   "metadata": {},
   "outputs": [],
   "source": [
    "\n",
    "for click_list in driver.find_elements(By.CLASS_NAME, 'ZGKcF'): #선택 리뷰 창 + 버튼 누르기\n",
    "    click_list.click()\n",
    "    time.sleep(0.2)"
   ]
  },
  {
   "cell_type": "code",
   "execution_count": null,
   "metadata": {},
   "outputs": [],
   "source": [
    "for click_list in driver.find_elements(By.CLASS_NAME, 'I8cuq'): #키워드 별점 리뷰 창 더보기 버튼 누르기 (한번만 누르면 됨)\n",
    "    click_list.click()"
   ]
  },
  {
   "cell_type": "code",
   "execution_count": 60,
   "metadata": {},
   "outputs": [
    {
     "data": {
      "text/plain": [
       "['깔끔한비숑',\n",
       " '리뷰 428사진 184팔로워 15',\n",
       " '팔로우',\n",
       " '방문자리뷰',\n",
       " '언제나 맛있는 미칠비루 디저트 카페에요 ! 사장님도 친절하시고 테이블도 새롭게 생겨서 앉아있을 수 있어욤 !! 💕',\n",
       " '특별한 메뉴가 있어요디저트가 맛있어요뷰가 좋아요매장이 청결해요친절해요',\n",
       " '최근 방문일',\n",
       " '22.11.2.수',\n",
       " '2022년 11월 2일 수요일',\n",
       " '1번째 방문영수증']"
      ]
     },
     "execution_count": 60,
     "metadata": {},
     "output_type": "execute_result"
    }
   ],
   "source": [
    "user_list[0]"
   ]
  },
  {
   "cell_type": "code",
   "execution_count": 61,
   "metadata": {},
   "outputs": [
    {
     "data": {
      "text/plain": [
       "['Kimyejin',\n",
       " '리뷰 204사진 90팔로워 1',\n",
       " '팔로우',\n",
       " '별점',\n",
       " '5',\n",
       " '최근 방문일',\n",
       " '21.6.7.월',\n",
       " '2021년 6월 7일 월요일',\n",
       " '1번째 방문영수증']"
      ]
     },
     "execution_count": 61,
     "metadata": {},
     "output_type": "execute_result"
    }
   ],
   "source": [
    "user_list[-1]"
   ]
  }
 ],
 "metadata": {
  "kernelspec": {
   "display_name": "base",
   "language": "python",
   "name": "python3"
  },
  "language_info": {
   "codemirror_mode": {
    "name": "ipython",
    "version": 3
   },
   "file_extension": ".py",
   "mimetype": "text/x-python",
   "name": "python",
   "nbconvert_exporter": "python",
   "pygments_lexer": "ipython3",
   "version": "3.9.13"
  },
  "orig_nbformat": 4,
  "vscode": {
   "interpreter": {
    "hash": "c0d07f6d1b588df06992a3ebb12e6b30ff5ec3ab47dcce5911add949478db3bf"
   }
  }
 },
 "nbformat": 4,
 "nbformat_minor": 2
}
