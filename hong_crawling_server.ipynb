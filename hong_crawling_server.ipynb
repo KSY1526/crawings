{
 "cells": [
  {
   "cell_type": "code",
   "execution_count": 1,
   "metadata": {},
   "outputs": [],
   "source": [
    "import selenium\n",
    "from selenium import webdriver\n",
    "from selenium.webdriver import ActionChains\n",
    "\n",
    "from selenium.webdriver.common.keys import Keys\n",
    "from selenium.webdriver.common.by import By\n",
    "\n",
    "from selenium.webdriver.support import expected_conditions as EC\n",
    "from selenium.webdriver.support.ui import Select\n",
    "from selenium.webdriver.support.ui import WebDriverWait\n",
    "\n",
    "import time\n",
    "import pandas as pd"
   ]
  },
  {
   "cell_type": "code",
   "execution_count": 3,
   "metadata": {},
   "outputs": [],
   "source": [
    "from selenium.webdriver.chrome.options import Options\n",
    "chrome_options = Options()\n",
    "chrome_options.add_argument('--headless')\n",
    "chrome_options.add_argument('--no-sandbox')\n",
    "chrome_options.add_argument('--disable-dev-shm-usage')\n",
    "\n",
    "# executable_path : /opt/ml/crawling/chromedriver\n",
    "driver = webdriver.Chrome(executable_path='/opt/ml/input/final/chromedriver', chrome_options=chrome_options)\n",
    "URL = \"https://map.naver.com/v5/search/%EC%84%9C%EC%B4%88%EA%B5%AC%20%EC%9D%8C%EC%8B%9D%EC%A0%90?c=14137477.8183780,4506726.1284877,12,0,0,0,dh\"  \n",
    "driver.get(URL)"
   ]
  },
  {
   "cell_type": "code",
   "execution_count": 4,
   "metadata": {},
   "outputs": [],
   "source": [
    "driver.switch_to.frame('searchIframe') #iframe 으로 이동하기 위한 코드\n",
    "restaurants_list = pd.DataFrame()"
   ]
  },
  {
   "cell_type": "code",
   "execution_count": 5,
   "metadata": {},
   "outputs": [
    {
     "name": "stderr",
     "output_type": "stream",
     "text": [
      "100%|██████████| 6/6 [03:54<00:00, 39.13s/it]\n"
     ]
    }
   ],
   "source": [
    "from tqdm import tqdm\n",
    "epoch = 6 # 6이 최대인듯\n",
    "for _ in tqdm(range(epoch)):\n",
    "    click_list = driver.find_elements(By.CLASS_NAME, \"tzwk0\")\n",
    "    click_list[0].click() #아무거나 클릭을 해야 end키가 먹혀서 임의로 아무 클래스 클릭한거임\n",
    "    for _ in range(10):\n",
    "        driver.find_element(By.CSS_SELECTOR, \"body\").send_keys(Keys.END) # end키를 눌러서 아래까지 로딩\n",
    "    time.sleep(2)\n",
    "    click_list = driver.find_elements(By.CLASS_NAME, \"tzwk0\") # 식당 리스트\n",
    "    name_list = driver.find_elements(By.CLASS_NAME, \"TYaxT\") # 식당 이름 리스트\n",
    "    name_list = [user.text for user in name_list]\n",
    "    tag_list = driver.find_elements(By.CLASS_NAME, \"KCMnt\") # 식당 종류 리스트\n",
    "    tag_list = [user.text for user in tag_list]\n",
    "    url_list = []\n",
    "    for restaurant_link in click_list:\n",
    "        restaurant_link.click()\n",
    "        url_list.append(driver.current_url)\n",
    "        time.sleep(0.5)\n",
    "    restaurants_list2 = pd.DataFrame({'restaurant' : name_list, 'tag' : tag_list, 'url' : url_list}, dtype = str)\n",
    "    restaurants_list = pd.concat([restaurants_list, restaurants_list2], axis = 0, sort=False)\n",
    "    driver.find_elements(By.CLASS_NAME, \"yUtES\")[1].click() #다음페이지 클릭\n",
    "    time.sleep(2)"
   ]
  },
  {
   "cell_type": "code",
   "execution_count": 7,
   "metadata": {},
   "outputs": [
    {
     "data": {
      "text/html": [
       "<div>\n",
       "<style scoped>\n",
       "    .dataframe tbody tr th:only-of-type {\n",
       "        vertical-align: middle;\n",
       "    }\n",
       "\n",
       "    .dataframe tbody tr th {\n",
       "        vertical-align: top;\n",
       "    }\n",
       "\n",
       "    .dataframe thead th {\n",
       "        text-align: right;\n",
       "    }\n",
       "</style>\n",
       "<table border=\"1\" class=\"dataframe\">\n",
       "  <thead>\n",
       "    <tr style=\"text-align: right;\">\n",
       "      <th></th>\n",
       "      <th>restaurant</th>\n",
       "      <th>tag</th>\n",
       "      <th>url</th>\n",
       "    </tr>\n",
       "  </thead>\n",
       "  <tbody>\n",
       "    <tr>\n",
       "      <th>0</th>\n",
       "      <td>원조부안집 교대역점</td>\n",
       "      <td>돼지고기구이</td>\n",
       "      <td>https://map.naver.com/v5/search/%EC%84%9C%EC%B...</td>\n",
       "    </tr>\n",
       "    <tr>\n",
       "      <th>1</th>\n",
       "      <td>카페 어느새봄</td>\n",
       "      <td>카페,디저트</td>\n",
       "      <td>https://map.naver.com/v5/search/%EC%84%9C%EC%B...</td>\n",
       "    </tr>\n",
       "    <tr>\n",
       "      <th>2</th>\n",
       "      <td>텍사스데브라질 센트럴시티점</td>\n",
       "      <td>스테이크,립</td>\n",
       "      <td>https://map.naver.com/v5/search/%EC%84%9C%EC%B...</td>\n",
       "    </tr>\n",
       "    <tr>\n",
       "      <th>3</th>\n",
       "      <td>샤브리샤브샤브</td>\n",
       "      <td>샤브샤브</td>\n",
       "      <td>https://map.naver.com/v5/search/%EC%84%9C%EC%B...</td>\n",
       "    </tr>\n",
       "    <tr>\n",
       "      <th>4</th>\n",
       "      <td>원조부안집 양재점</td>\n",
       "      <td>돼지고기구이</td>\n",
       "      <td>https://map.naver.com/v5/search/%EC%84%9C%EC%B...</td>\n",
       "    </tr>\n",
       "    <tr>\n",
       "      <th>5</th>\n",
       "      <td>우대옥</td>\n",
       "      <td>소고기구이</td>\n",
       "      <td>https://map.naver.com/v5/search/%EC%84%9C%EC%B...</td>\n",
       "    </tr>\n",
       "    <tr>\n",
       "      <th>6</th>\n",
       "      <td>하이디라오 서초지점</td>\n",
       "      <td>중식당</td>\n",
       "      <td>https://map.naver.com/v5/search/%EC%84%9C%EC%B...</td>\n",
       "    </tr>\n",
       "    <tr>\n",
       "      <th>7</th>\n",
       "      <td>슈퍼두퍼 강남점</td>\n",
       "      <td>햄버거</td>\n",
       "      <td>https://map.naver.com/v5/search/%EC%84%9C%EC%B...</td>\n",
       "    </tr>\n",
       "    <tr>\n",
       "      <th>8</th>\n",
       "      <td>바다당</td>\n",
       "      <td>생선회</td>\n",
       "      <td>https://map.naver.com/v5/search/%EC%84%9C%EC%B...</td>\n",
       "    </tr>\n",
       "    <tr>\n",
       "      <th>9</th>\n",
       "      <td>설마중</td>\n",
       "      <td>육류,고기요리</td>\n",
       "      <td>https://map.naver.com/v5/search/%EC%84%9C%EC%B...</td>\n",
       "    </tr>\n",
       "  </tbody>\n",
       "</table>\n",
       "</div>"
      ],
      "text/plain": [
       "       restaurant      tag                                                url\n",
       "0      원조부안집 교대역점   돼지고기구이  https://map.naver.com/v5/search/%EC%84%9C%EC%B...\n",
       "1         카페 어느새봄   카페,디저트  https://map.naver.com/v5/search/%EC%84%9C%EC%B...\n",
       "2  텍사스데브라질 센트럴시티점   스테이크,립  https://map.naver.com/v5/search/%EC%84%9C%EC%B...\n",
       "3         샤브리샤브샤브     샤브샤브  https://map.naver.com/v5/search/%EC%84%9C%EC%B...\n",
       "4       원조부안집 양재점   돼지고기구이  https://map.naver.com/v5/search/%EC%84%9C%EC%B...\n",
       "5             우대옥    소고기구이  https://map.naver.com/v5/search/%EC%84%9C%EC%B...\n",
       "6      하이디라오 서초지점      중식당  https://map.naver.com/v5/search/%EC%84%9C%EC%B...\n",
       "7        슈퍼두퍼 강남점      햄버거  https://map.naver.com/v5/search/%EC%84%9C%EC%B...\n",
       "8             바다당      생선회  https://map.naver.com/v5/search/%EC%84%9C%EC%B...\n",
       "9             설마중  육류,고기요리  https://map.naver.com/v5/search/%EC%84%9C%EC%B..."
      ]
     },
     "execution_count": 7,
     "metadata": {},
     "output_type": "execute_result"
    }
   ],
   "source": [
    "restaurants_list[:10]"
   ]
  },
  {
   "cell_type": "code",
   "execution_count": 11,
   "metadata": {},
   "outputs": [],
   "source": [
    "restaurants_list.to_csv('./save_csv/restaurant.csv', index=False)"
   ]
  },
  {
   "cell_type": "code",
   "execution_count": null,
   "metadata": {},
   "outputs": [],
   "source": []
  }
 ],
 "metadata": {
  "kernelspec": {
   "display_name": "final",
   "language": "python",
   "name": "final"
  },
  "language_info": {
   "codemirror_mode": {
    "name": "ipython",
    "version": 3
   },
   "file_extension": ".py",
   "mimetype": "text/x-python",
   "name": "python",
   "nbconvert_exporter": "python",
   "pygments_lexer": "ipython3",
   "version": "3.8.15"
  },
  "orig_nbformat": 4,
  "vscode": {
   "interpreter": {
    "hash": "c0d07f6d1b588df06992a3ebb12e6b30ff5ec3ab47dcce5911add949478db3bf"
   }
  }
 },
 "nbformat": 4,
 "nbformat_minor": 2
}
