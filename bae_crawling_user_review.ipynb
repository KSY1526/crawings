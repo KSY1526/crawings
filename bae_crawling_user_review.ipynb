{
 "cells": [
  {
   "cell_type": "code",
   "execution_count": null,
   "metadata": {},
   "outputs": [],
   "source": [
    "import selenium\n",
    "from selenium import webdriver\n",
    "from selenium.webdriver import ActionChains\n",
    "\n",
    "from selenium.webdriver.common.keys import Keys\n",
    "from selenium.webdriver.common.by import By\n",
    "\n",
    "from selenium.webdriver.support import expected_conditions as EC\n",
    "from selenium.webdriver.support.ui import Select\n",
    "from selenium.webdriver.support.ui import WebDriverWait\n",
    "from selenium.webdriver.common.action_chains import ActionChains\n",
    "from bs4 import BeautifulSoup\n",
    "\n",
    "import time\n",
    "import pandas as pd"
   ]
  },
  {
   "cell_type": "code",
   "execution_count": null,
   "metadata": {},
   "outputs": [],
   "source": [
    "from selenium.webdriver.chrome.options import Options\n",
    "chrome_options = Options()\n",
    "chrome_options.add_argument('--headless')\n",
    "chrome_options.add_argument('--no-sandbox')\n",
    "chrome_options.add_argument('--disable-dev-shm-usage')\n",
    "chrome_options.add_argument('window-size= 1920,1080')\n",
    "chrome_options.add_argument('--kiosk')\n",
    "\n",
    "# executable_path : /opt/ml/crawling/chromedriver\n",
    "driver = webdriver.Chrome(executable_path='/opt/ml/input/crawings/chromedriver', chrome_options=chrome_options)"
   ]
  },
  {
   "cell_type": "code",
   "execution_count": null,
   "metadata": {},
   "outputs": [],
   "source": [
    "data = pd.read_csv('./save_csv/river_behind_concat.csv')\n",
    "url_list = list(data['url'].values)\n",
    "url_list[:5]"
   ]
  },
  {
   "cell_type": "code",
   "execution_count": null,
   "metadata": {},
   "outputs": [],
   "source": [
    "len(url_list)\n",
    "userlink = pd.DataFrame()"
   ]
  },
  {
   "cell_type": "code",
   "execution_count": null,
   "metadata": {},
   "outputs": [],
   "source": [
    "# from tqdm import tqdm\n",
    "# #url_list = [\"36528615\", \"31317229\", \"1269259731\", \"1779562085\", \"33040151\", \"1675801137\", \"1384361907\", \"1372982703\", \"1681990192\", \"1971062401\"]\n",
    "\n",
    "# userlink = pd.DataFrame()\n",
    "# for _url in tqdm(url_list[20:30]): # [0:500]\n",
    "#     URL = f\"https://m.place.naver.com/restaurant/{_url}/review/visitor\"  \n",
    "#     driver.get(URL)\n",
    "#     time.sleep(2.5)\n",
    "#     prev_height = driver.execute_script(\"return document. body.scrollHeight\")\n",
    "#     while True:\n",
    "#         driver.find_element(By.CSS_SELECTOR, \"body\").send_keys(Keys.END)\n",
    "#         time.sleep(0.5)\n",
    "#         try: driver.find_element(By.CLASS_NAME, 'fvwqf').click()\n",
    "#         except: pass\n",
    "#         current_height = driver.execute_script(\"return document. body.scrollHeight\")\n",
    "#         if current_height == prev_height: break\n",
    "#         prev_height = current_height\n",
    "#         time.sleep(0.1)\n",
    "    \n",
    "#     link_list = driver.find_elements(By.CLASS_NAME, \"Hazns\")\n",
    "#     link_list = [link.get_attribute(\"href\") for link in link_list]\n",
    "#     user_list = driver.find_elements(By.CLASS_NAME, \"sBWyy\")\n",
    "#     user_list = [user.text for user in user_list]\n",
    "#     review_time_list = driver.find_elements(By.CLASS_NAME, \"sb8UA\")\n",
    "#     review_time_list = [reviews.text for reviews in review_time_list]\n",
    "#     length = min(len(user_list), len(link_list), len(review_time_list))\n",
    "#     userlink2 = pd.DataFrame({'user' : user_list[:length], 'link' : link_list[:length], 'review_time' : review_time_list[:length]}, dtype = str)\n",
    "#     userlink = pd.concat([userlink, userlink2], axis = 0, sort=False)"
   ]
  },
  {
   "cell_type": "code",
   "execution_count": null,
   "metadata": {},
   "outputs": [],
   "source": [
    "from tqdm import tqdm\n",
    "#url_list = [\"36528615\", \"31317229\", \"1269259731\", \"1779562085\", \"33040151\", \"1675801137\", \"1384361907\", \"1372982703\", \"1681990192\", \"1971062401\"]\n",
    "current_status = 0\n",
    "\n",
    "for _url in tqdm(url_list[0:600]):\n",
    "    if current_status % 10 == 0: #크롬 드라이버 가끔 이상해지는거때문에 50번마다 재실행\n",
    "        #driver = webdriver.Chrome(executable_path='/opt/ml/input/crawings/chromedriver', chrome_options=chrome_options)\n",
    "        #action = ActionChains(driver)\n",
    "        userlink.to_csv('./user_csv/river_behind500.csv', index=False)#river_behind500\n",
    "    \n",
    "    driver = webdriver.Chrome(executable_path='/opt/ml/input/crawings/chromedriver', chrome_options=chrome_options)\n",
    "    action = ActionChains(driver)\n",
    "    #URL = f\"https://m.place.naver.com/restaurant/{_url}/review/visitor\"  \n",
    "    #_url = 32548015 \n",
    "    print(_url)\n",
    "    URL = f\"https://m.place.naver.com/restaurant/{_url}/review/visitor\"  \n",
    "    driver.get(URL)\n",
    "    time.sleep(2.5)\n",
    "    #prev_height = driver.execute_script(\"return document. body.scrollHeight\")\n",
    "    count =0\n",
    "    while True:        \n",
    "        try: action.move_to_element(driver.find_element(By.CLASS_NAME, \"lfH3O\")).click().perform() \n",
    "        except: break\n",
    "        print(\"\\r\",count, end=\"\")\n",
    "        count+= 1\n",
    "    \n",
    "    print(\"click 1/2 complete\")\n",
    "    time.sleep(2.5)\n",
    "\n",
    "    try: \n",
    "        #action.move_to_element(driver.find_elements(By.CLASS_NAME, \"YeINN\")[-1]).perform()  #선택 리뷰 창 + 버튼 누르기\n",
    "        driver.find_element(By.CLASS_NAME, 'I8cuq').click()\n",
    "    except: print(\"NO 선택리뷰창\")\n",
    "    time.sleep(2.5)\n",
    "    action = ActionChains(driver)\n",
    "    while True:\n",
    "        try: \n",
    "            action.move_to_element(driver.find_element(By.CLASS_NAME, \"lfH3O\")).click().perform() \n",
    "            #driver.find_element(By.CLASS_NAME, 'fvwqf').click()\n",
    "        except: \n",
    "            break\n",
    "        print(\"\\r\",count, end=\"\")\n",
    "        count+= 1\n",
    "    print(\"click 2/2 complete\")\n",
    "    \n",
    "    html = driver.page_source\n",
    "    soup = BeautifulSoup(html,'html.parser')\n",
    "    user = soup.find_all(class_='YeINN')\n",
    "\n",
    "    link_list = [i.a['href'] for i in user]\n",
    "    user_list = [i.text for i in user]\n",
    "\n",
    "    #time.sleep(5)\n",
    "   \n",
    "    print(_url, len(link_list), len(user_list))\n",
    "    userlink2 = pd.DataFrame({'link' : link_list, 'user' : user_list}, dtype = str)\n",
    "    userlink2['rest'] = _url\n",
    "    userlink = pd.concat([userlink, userlink2], axis = 0, sort=False)\n",
    "    current_status += 1\n",
    "    break\n",
    "    "
   ]
  },
  {
   "cell_type": "code",
   "execution_count": null,
   "metadata": {},
   "outputs": [],
   "source": [
    "userlink"
   ]
  },
  {
   "cell_type": "code",
   "execution_count": null,
   "metadata": {},
   "outputs": [],
   "source": [
    "userlink.to_csv('./user_csv/river_behind500.csv', index=False)"
   ]
  }
 ],
 "metadata": {
  "kernelspec": {
   "display_name": "base",
   "language": "python",
   "name": "python3"
  },
  "language_info": {
   "codemirror_mode": {
    "name": "ipython",
    "version": 3
   },
   "file_extension": ".py",
   "mimetype": "text/x-python",
   "name": "python",
   "nbconvert_exporter": "python",
   "pygments_lexer": "ipython3",
   "version": "3.8.5"
  },
  "orig_nbformat": 4,
  "vscode": {
   "interpreter": {
    "hash": "d4d1e4263499bec80672ea0156c357c1ee493ec2b1c70f0acce89fc37c4a6abe"
   }
  }
 },
 "nbformat": 4,
 "nbformat_minor": 2
}
