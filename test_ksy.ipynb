{
 "cells": [
  {
   "cell_type": "code",
   "execution_count": 1,
   "metadata": {},
   "outputs": [],
   "source": [
    "import selenium\n",
    "from selenium import webdriver\n",
    "from selenium.webdriver import ActionChains\n",
    "\n",
    "from selenium.webdriver.common.keys import Keys\n",
    "from selenium.webdriver.common.by import By\n",
    "\n",
    "from selenium.webdriver.support import expected_conditions as EC\n",
    "from selenium.webdriver.support.ui import Select\n",
    "from selenium.webdriver.support.ui import WebDriverWait\n",
    "\n",
    "import time\n",
    "import pandas as pd"
   ]
  },
  {
   "cell_type": "code",
   "execution_count": 2,
   "metadata": {},
   "outputs": [
    {
     "name": "stderr",
     "output_type": "stream",
     "text": [
      "/tmp/ipykernel_111723/2217671158.py:9: DeprecationWarning: use options instead of chrome_options\n",
      "  driver = webdriver.Chrome(executable_path='/opt/ml/crawings/chromedriver', chrome_options=chrome_options)\n"
     ]
    }
   ],
   "source": [
    "from selenium.webdriver.chrome.options import Options\n",
    "chrome_options = Options()\n",
    "chrome_options.add_argument('--headless')\n",
    "chrome_options.add_argument('--no-sandbox')\n",
    "chrome_options.add_argument('--disable-dev-shm-usage')\n",
    "chrome_options.add_argument('window-size= 9999,9999')\n",
    "\n",
    "# executable_path : /opt/ml/crawling/chromedriver\n",
    "driver = webdriver.Chrome(executable_path='/opt/ml/crawings/chromedriver', chrome_options=chrome_options)"
   ]
  },
  {
   "cell_type": "code",
   "execution_count": 3,
   "metadata": {},
   "outputs": [
    {
     "data": {
      "text/plain": [
       "[1675303081, 1867823297, 38969614, 895457986, 11700226]"
      ]
     },
     "execution_count": 3,
     "metadata": {},
     "output_type": "execute_result"
    }
   ],
   "source": [
    "data = pd.read_csv('./save_csv/river_behind_concat.csv')\n",
    "url_list = list(data['url'].values)\n",
    "url_list[:5]"
   ]
  },
  {
   "cell_type": "code",
   "execution_count": 4,
   "metadata": {},
   "outputs": [],
   "source": [
    "len(url_list)\n",
    "userlink = pd.DataFrame()"
   ]
  },
  {
   "cell_type": "code",
   "execution_count": 5,
   "metadata": {},
   "outputs": [],
   "source": [
    "# from tqdm import tqdm\n",
    "# #url_list = [\"36528615\", \"31317229\", \"1269259731\", \"1779562085\", \"33040151\", \"1675801137\", \"1384361907\", \"1372982703\", \"1681990192\", \"1971062401\"]\n",
    "\n",
    "# userlink = pd.DataFrame()\n",
    "# for _url in tqdm(url_list[20:30]): # [0:500]\n",
    "#     URL = f\"https://m.place.naver.com/restaurant/{_url}/review/visitor\"  \n",
    "#     driver.get(URL)\n",
    "#     time.sleep(2.5)\n",
    "#     prev_height = driver.execute_script(\"return document. body.scrollHeight\")\n",
    "#     while True:\n",
    "#         driver.find_element(By.CSS_SELECTOR, \"body\").send_keys(Keys.END)\n",
    "#         time.sleep(0.5)\n",
    "#         try: driver.find_element(By.CLASS_NAME, 'fvwqf').click()\n",
    "#         except: pass\n",
    "#         current_height = driver.execute_script(\"return document. body.scrollHeight\")\n",
    "#         if current_height == prev_height: break\n",
    "#         prev_height = current_height\n",
    "#         time.sleep(0.1)\n",
    "    \n",
    "#     link_list = driver.find_elements(By.CLASS_NAME, \"Hazns\")\n",
    "#     link_list = [link.get_attribute(\"href\") for link in link_list]\n",
    "#     user_list = driver.find_elements(By.CLASS_NAME, \"sBWyy\")\n",
    "#     user_list = [user.text for user in user_list]\n",
    "#     review_time_list = driver.find_elements(By.CLASS_NAME, \"sb8UA\")\n",
    "#     review_time_list = [reviews.text for reviews in review_time_list]\n",
    "#     length = min(len(user_list), len(link_list), len(review_time_list))\n",
    "#     userlink2 = pd.DataFrame({'user' : user_list[:length], 'link' : link_list[:length], 'review_time' : review_time_list[:length]}, dtype = str)\n",
    "#     userlink = pd.concat([userlink, userlink2], axis = 0, sort=False)"
   ]
  },
  {
   "cell_type": "code",
   "execution_count": 5,
   "metadata": {},
   "outputs": [
    {
     "name": "stderr",
     "output_type": "stream",
     "text": [
      "  0%|          | 0/500 [00:00<?, ?it/s]/tmp/ipykernel_111723/3285725687.py:7: DeprecationWarning: use options instead of chrome_options\n",
      "  driver = webdriver.Chrome(executable_path='/opt/ml/crawings/chromedriver', chrome_options=chrome_options)\n",
      "  0%|          | 1/500 [00:40<5:34:35, 40.23s/it]"
     ]
    },
    {
     "name": "stdout",
     "output_type": "stream",
     "text": [
      "1268061360 206 206\n"
     ]
    },
    {
     "name": "stderr",
     "output_type": "stream",
     "text": [
      "  0%|          | 1/500 [00:46<6:29:47, 46.87s/it]\n"
     ]
    },
    {
     "ename": "KeyboardInterrupt",
     "evalue": "",
     "output_type": "error",
     "traceback": [
      "\u001b[0;31m---------------------------------------------------------------------------\u001b[0m",
      "\u001b[0;31mKeyboardInterrupt\u001b[0m                         Traceback (most recent call last)",
      "\u001b[1;32m/opt/ml/crawings/test_ksy.ipynb Cell 6\u001b[0m in \u001b[0;36m<cell line: 5>\u001b[0;34m()\u001b[0m\n\u001b[1;32m     <a href='vscode-notebook-cell://ssh-remote%2B27.96.130.127/opt/ml/crawings/test_ksy.ipynb#W5sdnNjb2RlLXJlbW90ZQ%3D%3D?line=33'>34</a>\u001b[0m     prev_height \u001b[39m=\u001b[39m current_height\n\u001b[1;32m     <a href='vscode-notebook-cell://ssh-remote%2B27.96.130.127/opt/ml/crawings/test_ksy.ipynb#W5sdnNjb2RlLXJlbW90ZQ%3D%3D?line=34'>35</a>\u001b[0m     time\u001b[39m.\u001b[39msleep(\u001b[39m0.1\u001b[39m)\n\u001b[0;32m---> <a href='vscode-notebook-cell://ssh-remote%2B27.96.130.127/opt/ml/crawings/test_ksy.ipynb#W5sdnNjb2RlLXJlbW90ZQ%3D%3D?line=36'>37</a>\u001b[0m time\u001b[39m.\u001b[39;49msleep(\u001b[39m5\u001b[39;49m)\n\u001b[1;32m     <a href='vscode-notebook-cell://ssh-remote%2B27.96.130.127/opt/ml/crawings/test_ksy.ipynb#W5sdnNjb2RlLXJlbW90ZQ%3D%3D?line=37'>38</a>\u001b[0m user_list \u001b[39m=\u001b[39m driver\u001b[39m.\u001b[39mfind_elements(By\u001b[39m.\u001b[39mCLASS_NAME, \u001b[39m\"\u001b[39m\u001b[39mYeINN\u001b[39m\u001b[39m\"\u001b[39m)\n\u001b[1;32m     <a href='vscode-notebook-cell://ssh-remote%2B27.96.130.127/opt/ml/crawings/test_ksy.ipynb#W5sdnNjb2RlLXJlbW90ZQ%3D%3D?line=39'>40</a>\u001b[0m link_list \u001b[39m=\u001b[39m [user\u001b[39m.\u001b[39mfind_element_by_class_name(\u001b[39m'\u001b[39m\u001b[39mLia3P\u001b[39m\u001b[39m'\u001b[39m) \u001b[39mfor\u001b[39;00m user \u001b[39min\u001b[39;00m user_list]\n",
      "\u001b[0;31mKeyboardInterrupt\u001b[0m: "
     ]
    }
   ],
   "source": [
    "from tqdm import tqdm\n",
    "#url_list = [\"36528615\", \"31317229\", \"1269259731\", \"1779562085\", \"33040151\", \"1675801137\", \"1384361907\", \"1372982703\", \"1681990192\", \"1971062401\"]\n",
    "current_status = 2000\n",
    "\n",
    "for _url in tqdm(url_list[2000:2500]):\n",
    "    if current_status % 50 == 0: #크롬 드라이버 가끔 이상해지는거때문에 50번마다 재실행\n",
    "        driver = webdriver.Chrome(executable_path='/opt/ml/crawings/chromedriver', chrome_options=chrome_options)\n",
    "        userlink.to_csv('./user_csv/river_behind500.csv', index=False)#river_behind500\n",
    "    URL = f\"https://m.place.naver.com/restaurant/{_url}/review/visitor\"  \n",
    "    driver.get(URL)\n",
    "    time.sleep(2.5)\n",
    "    prev_height = driver.execute_script(\"return document. body.scrollHeight\")\n",
    "    while True:\n",
    "        driver.find_element(By.CSS_SELECTOR, \"body\").send_keys(Keys.END)\n",
    "        time.sleep(0.5)\n",
    "        try: driver.find_element(By.CLASS_NAME, 'fvwqf').click()\n",
    "        except: pass\n",
    "        current_height = driver.execute_script(\"return document. body.scrollHeight\")\n",
    "        if current_height == prev_height: break\n",
    "        prev_height = current_height\n",
    "        time.sleep(0.1)\n",
    "    \n",
    "        \n",
    "    try: driver.find_elements(By.CLASS_NAME, 'I8cuq')[0].click() #선택 리뷰 창 + 버튼 누르기\n",
    "    except: pass\n",
    "    \n",
    "    while True:\n",
    "        driver.find_element(By.CSS_SELECTOR, \"body\").send_keys(Keys.END)\n",
    "        time.sleep(0.5)\n",
    "        try: driver.find_element(By.CLASS_NAME, 'fvwqf').click()\n",
    "        except: pass\n",
    "        current_height = driver.execute_script(\"return document. body.scrollHeight\")\n",
    "        if current_height == prev_height: break\n",
    "        prev_height = current_height\n",
    "        time.sleep(0.1)\n",
    "        \n",
    "    time.sleep(5)\n",
    "    user_list = driver.find_elements(By.CLASS_NAME, \"YeINN\")\n",
    "    \n",
    "    link_list = [user.find_element_by_class_name('Lia3P') for user in user_list]\n",
    "    link_list = [user.find_element_by_tag_name('a') for user in link_list]\n",
    "    link_list = [user.get_attribute(\"href\") for user in link_list]  \n",
    "    \n",
    "    user_list = [user.text.split(\"\\n\") for user in user_list]   \n",
    "    # while len(user_list) == len(link_list), len(review_time_list), len(review_text_list))\n",
    "    print(_url, len(link_list), len(user_list))\n",
    "    userlink2 = pd.DataFrame({'link' : link_list, 'user' : user_list}, dtype = str)\n",
    "    userlink2['rest'] = _url\n",
    "    userlink = pd.concat([userlink, userlink2], axis = 0, sort=False)\n",
    "    current_status += 1"
   ]
  },
  {
   "cell_type": "code",
   "execution_count": null,
   "metadata": {},
   "outputs": [],
   "source": [
    "userlink.to_csv('./user_csv/river_behind500.csv', index=False)"
   ]
  }
 ],
 "metadata": {
  "kernelspec": {
   "display_name": "base",
   "language": "python",
   "name": "python3"
  },
  "language_info": {
   "codemirror_mode": {
    "name": "ipython",
    "version": 3
   },
   "file_extension": ".py",
   "mimetype": "text/x-python",
   "name": "python",
   "nbconvert_exporter": "python",
   "pygments_lexer": "ipython3",
   "version": "3.8.5"
  },
  "orig_nbformat": 4,
  "vscode": {
   "interpreter": {
    "hash": "d4d1e4263499bec80672ea0156c357c1ee493ec2b1c70f0acce89fc37c4a6abe"
   }
  }
 },
 "nbformat": 4,
 "nbformat_minor": 2
}
