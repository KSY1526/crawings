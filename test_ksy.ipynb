{
 "cells": [
  {
   "cell_type": "code",
   "execution_count": 5,
   "metadata": {},
   "outputs": [],
   "source": [
    "import selenium\n",
    "from selenium import webdriver\n",
    "from selenium.webdriver import ActionChains\n",
    "\n",
    "from selenium.webdriver.common.keys import Keys\n",
    "from selenium.webdriver.common.by import By\n",
    "\n",
    "from selenium.webdriver.support import expected_conditions as EC\n",
    "from selenium.webdriver.support.ui import Select\n",
    "from selenium.webdriver.support.ui import WebDriverWait\n",
    "\n",
    "import time\n",
    "import pandas as pd"
   ]
  },
  {
   "cell_type": "code",
   "execution_count": 6,
   "metadata": {},
   "outputs": [],
   "source": [
    "from selenium.webdriver.chrome.options import Options\n",
    "chrome_options = Options()\n",
    "chrome_options.add_argument('--headless')\n",
    "chrome_options.add_argument('--no-sandbox')\n",
    "chrome_options.add_argument('--disable-dev-shm-usage')\n",
    "\n",
    "# executable_path : /opt/ml/crawling/chromedriver\n",
    "driver = webdriver.Chrome(executable_path='/opt/ml/input/final/chromedriver', chrome_options=chrome_options)"
   ]
  },
  {
   "cell_type": "code",
   "execution_count": 10,
   "metadata": {},
   "outputs": [
    {
     "data": {
      "text/plain": [
       "[1675303081, 1867823297, 38969614, 895457986, 11700226]"
      ]
     },
     "execution_count": 10,
     "metadata": {},
     "output_type": "execute_result"
    }
   ],
   "source": [
    "data = pd.read_csv('./save_csv/river_behind_concat.csv')\n",
    "url_list = list(data['url'].values)\n",
    "url_list[:5]"
   ]
  },
  {
   "cell_type": "code",
   "execution_count": 12,
   "metadata": {},
   "outputs": [
    {
     "data": {
      "text/plain": [
       "3071"
      ]
     },
     "execution_count": 12,
     "metadata": {},
     "output_type": "execute_result"
    }
   ],
   "source": [
    "len(url_list)"
   ]
  },
  {
   "cell_type": "code",
   "execution_count": 13,
   "metadata": {},
   "outputs": [
    {
     "ename": "KeyboardInterrupt",
     "evalue": "",
     "output_type": "error",
     "traceback": [
      "\u001b[0;31m---------------------------------------------------------------------------\u001b[0m",
      "\u001b[0;31mKeyboardInterrupt\u001b[0m                         Traceback (most recent call last)",
      "Cell \u001b[0;32mIn[13], line 11\u001b[0m\n\u001b[1;32m      9\u001b[0m \u001b[39mfor\u001b[39;00m _ \u001b[39min\u001b[39;00m \u001b[39mrange\u001b[39m(\u001b[39m100\u001b[39m):\n\u001b[1;32m     10\u001b[0m     driver\u001b[39m.\u001b[39mfind_element(By\u001b[39m.\u001b[39mCSS_SELECTOR, \u001b[39m\"\u001b[39m\u001b[39mbody\u001b[39m\u001b[39m\"\u001b[39m)\u001b[39m.\u001b[39msend_keys(Keys\u001b[39m.\u001b[39mEND)\n\u001b[0;32m---> 11\u001b[0m     time\u001b[39m.\u001b[39;49msleep(\u001b[39m0.5\u001b[39;49m)\n\u001b[1;32m     12\u001b[0m     \u001b[39mtry\u001b[39;00m: driver\u001b[39m.\u001b[39mfind_element(By\u001b[39m.\u001b[39mCLASS_NAME, \u001b[39m'\u001b[39m\u001b[39mfvwqf\u001b[39m\u001b[39m'\u001b[39m)\u001b[39m.\u001b[39mclick()\n\u001b[1;32m     13\u001b[0m     \u001b[39mexcept\u001b[39;00m: \u001b[39mpass\u001b[39;00m\n",
      "\u001b[0;31mKeyboardInterrupt\u001b[0m: "
     ]
    }
   ],
   "source": [
    "from tqdm import tqdm\n",
    "#url_list = [\"36528615\", \"31317229\", \"1269259731\", \"1779562085\", \"33040151\", \"1675801137\", \"1384361907\", \"1372982703\", \"1681990192\", \"1971062401\"]\n",
    "\n",
    "userlink = pd.DataFrame()\n",
    "for _url in tqdm(url_list[0:500]):\n",
    "    URL = f\"https://m.place.naver.com/restaurant/{_url}/review/visitor\"  \n",
    "    driver.get(URL)\n",
    "    time.sleep(2.5)\n",
    "    for _ in range(100):\n",
    "        driver.find_element(By.CSS_SELECTOR, \"body\").send_keys(Keys.END)\n",
    "        time.sleep(0.5)\n",
    "        try: driver.find_element(By.CLASS_NAME, 'fvwqf').click()\n",
    "        except: pass\n",
    "        time.sleep(0.1)\n",
    "    \n",
    "    link_list = driver.find_elements(By.CLASS_NAME, \"Hazns\")\n",
    "    link_list = [link.get_attribute(\"href\") for link in link_list]\n",
    "    user_list = driver.find_elements(By.CLASS_NAME, \"sBWyy\")\n",
    "    user_list = [user.text for user in user_list]\n",
    "    review_time_list = driver.find_elements(By.CLASS_NAME, \"sb8UA\")\n",
    "    review_time_list = [reviews.text for reviews in review_time_list]\n",
    "    length = min(len(user_list), len(link_list), len(review_time_list))\n",
    "    userlink2 = pd.DataFrame({'user' : user_list[:length], 'link' : link_list[:length], 'review_time' : review_time_list[:length]}, dtype = str)\n",
    "    userlink = pd.concat([userlink, userlink2], axis = 0, sort=False)"
   ]
  },
  {
   "cell_type": "code",
   "execution_count": null,
   "metadata": {},
   "outputs": [],
   "source": []
  }
 ],
 "metadata": {
  "kernelspec": {
   "display_name": "final",
   "language": "python",
   "name": "final"
  },
  "language_info": {
   "codemirror_mode": {
    "name": "ipython",
    "version": 3
   },
   "file_extension": ".py",
   "mimetype": "text/x-python",
   "name": "python",
   "nbconvert_exporter": "python",
   "pygments_lexer": "ipython3",
   "version": "3.8.15"
  },
  "orig_nbformat": 4,
  "vscode": {
   "interpreter": {
    "hash": "d4d1e4263499bec80672ea0156c357c1ee493ec2b1c70f0acce89fc37c4a6abe"
   }
  }
 },
 "nbformat": 4,
 "nbformat_minor": 2
}
